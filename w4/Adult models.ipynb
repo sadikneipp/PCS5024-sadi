{
 "cells": [
  {
   "cell_type": "code",
   "execution_count": 1,
   "metadata": {},
   "outputs": [
    {
     "name": "stderr",
     "output_type": "stream",
     "text": [
      "randomForest 4.6-14\n",
      "Type rfNews() to see new features/changes/bug fixes.\n",
      "rfUtilities 2.1-3\n",
      "Type rfu.news() to see new features/changes/bug fixes.\n",
      "Loading required package: lattice\n",
      "Loading required package: ggplot2\n",
      "\n",
      "Attaching package: ‘ggplot2’\n",
      "\n",
      "The following object is masked from ‘package:randomForest’:\n",
      "\n",
      "    margin\n",
      "\n",
      "Loading required package: foreach\n",
      "Loading required package: iterators\n",
      "Loading required package: parallel\n"
     ]
    }
   ],
   "source": [
    "library(randomForest)\n",
    "library(rfUtilities)\n",
    "library(caret)\n",
    "library(doMC)\n",
    "registerDoMC(cores=3)"
   ]
  },
  {
   "cell_type": "markdown",
   "metadata": {},
   "source": [
    "# Loading data"
   ]
  },
  {
   "cell_type": "code",
   "execution_count": 2,
   "metadata": {},
   "outputs": [],
   "source": [
    "df = read.table('datasets/adult/train.csv', header = TRUE, sep = ',')\n",
    "df = df[, !(names(df) %in% c('X', 'Id'))]\n",
    "y = df['income']\n",
    "X = df[, !(names(df) %in% c('income'))]\n",
    "train_control = trainControl(method=\"cv\", number=10,\n",
    "                             verboseIter = TRUE, search=\"random\")"
   ]
  },
  {
   "cell_type": "code",
   "execution_count": 8,
   "metadata": {},
   "outputs": [
    {
     "data": {
      "text/html": [
       "14"
      ],
      "text/latex": [
       "14"
      ],
      "text/markdown": [
       "14"
      ],
      "text/plain": [
       "[1] 14"
      ]
     },
     "metadata": {},
     "output_type": "display_data"
    }
   ],
   "source": [
    "ncol(X)"
   ]
  },
  {
   "cell_type": "code",
   "execution_count": 3,
   "metadata": {
    "scrolled": true
   },
   "outputs": [],
   "source": [
    "y = factor(df$income)"
   ]
  },
  {
   "cell_type": "markdown",
   "metadata": {},
   "source": [
    "# Random Forests"
   ]
  },
  {
   "cell_type": "code",
   "execution_count": 5,
   "metadata": {},
   "outputs": [
    {
     "name": "stdout",
     "output_type": "stream",
     "text": [
      "Aggregating results\n",
      "Selecting tuning parameters\n",
      "Fitting mtry = 2 on full training set\n",
      "Random Forest \n",
      "\n",
      "32561 samples\n",
      "   14 predictors\n",
      "    2 classes: '<=50K', '>50K' \n",
      "\n",
      "No pre-processing\n",
      "Resampling: Cross-Validated (10 fold) \n",
      "Summary of sample sizes: 29304, 29305, 29305, 29305, 29305, 29305, ... \n",
      "Resampling results across tuning parameters:\n",
      "\n",
      "  mtry  Accuracy   Kappa    \n",
      "   2    0.8664048  0.6118161\n",
      "   4    0.8612146  0.6021669\n",
      "   5    0.8586655  0.5958509\n",
      "   6    0.8575906  0.5943085\n",
      "   7    0.8553486  0.5878698\n",
      "   8    0.8555328  0.5890171\n",
      "   9    0.8551949  0.5887065\n",
      "  10    0.8541200  0.5862725\n",
      "  11    0.8536901  0.5843668\n",
      "  12    0.8537822  0.5850062\n",
      "  13    0.8528609  0.5825533\n",
      "  14    0.8527073  0.5825539\n",
      "\n",
      "Accuracy was used to select the optimal model using the largest value.\n",
      "The final value used for the model was mtry = 2.\n"
     ]
    }
   ],
   "source": [
    "model <- train(X, y, trControl=train_control, method=\"rf\",\n",
    "               tuneLength = 20)\n",
    "print(model)"
   ]
  },
  {
   "cell_type": "markdown",
   "metadata": {},
   "source": [
    "# Boosted Logistic Regression"
   ]
  },
  {
   "cell_type": "code",
   "execution_count": 7,
   "metadata": {
    "scrolled": true
   },
   "outputs": [
    {
     "name": "stdout",
     "output_type": "stream",
     "text": [
      "+ Fold1: nIter=93 \n",
      "- Fold1: nIter=93 \n",
      "+ Fold2: nIter=93 \n",
      "- Fold2: nIter=93 \n",
      "+ Fold3: nIter=93 \n",
      "- Fold3: nIter=93 \n",
      "Aggregating results\n",
      "Selecting tuning parameters\n",
      "Fitting nIter = 8 on full training set\n",
      "Boosted Logistic Regression \n",
      "\n",
      "32561 samples\n",
      "   14 predictors\n",
      "    2 classes: '<=50K', '>50K' \n",
      "\n",
      "No pre-processing\n",
      "Resampling: Cross-Validated (3 fold) \n",
      "Summary of sample sizes: 21708, 21707, 21707 \n",
      "Resampling results across tuning parameters:\n",
      "\n",
      "  nIter  Accuracy   Kappa    \n",
      "   4     0.9119357  0.7031231\n",
      "   6     0.9143190  0.7047318\n",
      "   8     0.9402753  0.7658667\n",
      "  14     0.9336599  0.7477284\n",
      "  17     0.8474864  0.5398486\n",
      "  28     0.9210256  0.7426227\n",
      "  29     0.8485306  0.5371384\n",
      "  44     0.9277269  0.7532251\n",
      "  51     0.8379657  0.5054356\n",
      "  63     0.8445380  0.5090409\n",
      "  71     0.8446916  0.5194865\n",
      "  72     0.9209256  0.7410455\n",
      "  78     0.9278255  0.7428588\n",
      "  83     0.8381193  0.5158812\n",
      "  85     0.8497590  0.5340357\n",
      "  87     0.8445380  0.5090409\n",
      "  89     0.8474864  0.5398486\n",
      "  93     0.8483771  0.5266928\n",
      "\n",
      "Accuracy was used to select the optimal model using the largest value.\n",
      "The final value used for the model was nIter = 8.\n"
     ]
    }
   ],
   "source": [
    "model <- train(income ~ ., data=df, trControl=train_control, method=\"LogitBoost\",\n",
    "               tuneLength = 20)\n",
    "print(model)"
   ]
  },
  {
   "cell_type": "markdown",
   "metadata": {},
   "source": [
    "# Boosted Classification Trees"
   ]
  },
  {
   "cell_type": "code",
   "execution_count": 6,
   "metadata": {},
   "outputs": [
    {
     "name": "stdout",
     "output_type": "stream",
     "text": [
      "Aggregating results\n",
      "Selecting tuning parameters\n",
      "Fitting iter = 722, maxdepth = 7, nu = 0.108 on full training set\n",
      "Boosted Classification Trees \n",
      "\n",
      "32561 samples\n",
      "   14 predictors\n",
      "    2 classes: '<=50K', '>50K' \n",
      "\n",
      "No pre-processing\n",
      "Resampling: Cross-Validated (10 fold) \n",
      "Summary of sample sizes: 29305, 29305, 29305, 29304, 29305, 29305, ... \n",
      "Resampling results across tuning parameters:\n",
      "\n",
      "  nu          maxdepth  iter  Accuracy   Kappa    \n",
      "  0.01080156   9        527   0.8715027  0.6242570\n",
      "  0.08337052   1        247   0.8510485  0.5265509\n",
      "  0.10182010  10        460   0.8719327  0.6309435\n",
      "  0.10567212   9        890   0.8696293  0.6241892\n",
      "  0.10766404   7        722   0.8724240  0.6308895\n",
      "  0.12062475   2         49   0.8496972  0.5251415\n",
      "  0.14438122   4         26   0.8595251  0.5817800\n",
      "  0.19890318   3        402   0.8633334  0.6016529\n",
      "  0.21021192   7        567   0.8703664  0.6257568\n",
      "  0.21862286   5        911   0.8704892  0.6242285\n",
      "  0.23131864   3        322   0.8629341  0.6001306\n",
      "  0.23366362   5        318   0.8676637  0.6160343\n",
      "  0.26416619   6        417   0.8713799  0.6280547\n",
      "  0.32314238   3        464   0.8656675  0.6085500\n",
      "  0.32594555   8        393   0.8683087  0.6196743\n",
      "  0.33067654   6        303   0.8696908  0.6228054\n",
      "  0.33823753   1        647   0.8598936  0.5872694\n",
      "  0.37363396   9        931   0.8587574  0.5920409\n",
      "  0.37760087   7        475   0.8669881  0.6169432\n",
      "  0.43273711   5        376   0.8697215  0.6234956\n",
      "\n",
      "Accuracy was used to select the optimal model using the largest value.\n",
      "The final values used for the model were iter = 722, maxdepth = 7 and nu\n",
      " = 0.107664.\n"
     ]
    }
   ],
   "source": [
    "model <- train(X, y, trControl=train_control, method=\"ada\",\n",
    "               tuneLength = 20)\n",
    "print(model)"
   ]
  },
  {
   "cell_type": "code",
   "execution_count": null,
   "metadata": {},
   "outputs": [],
   "source": []
  }
 ],
 "metadata": {
  "kernelspec": {
   "display_name": "R",
   "language": "R",
   "name": "ir"
  },
  "language_info": {
   "codemirror_mode": "r",
   "file_extension": ".r",
   "mimetype": "text/x-r-source",
   "name": "R",
   "pygments_lexer": "r",
   "version": "3.4.3"
  }
 },
 "nbformat": 4,
 "nbformat_minor": 2
}
